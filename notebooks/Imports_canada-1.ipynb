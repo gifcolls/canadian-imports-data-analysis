{
 "cells": [
  {
   "cell_type": "markdown",
   "metadata": {},
   "source": [
    "# Project Overview\n",
    "\n",
    "This project aims to analyze the data from the total imports of the top 25 industries in Canada. The objectives are to discover trends and patterns to predict the behavior of these industries for the current year, 2024.\n",
    "\n",
    "The data was collected from the official website of the [Trade Data Online by the Government of Canada](https://www.ic.gc.ca/app/scr/tdst/tdo/crtr.html?reportType=TI&grouped=GROUPED&searchType=All&timePeriod=5%7cComplete+Years&currency=CDN&naArea=9999&countryList=ALL&productType=NAICS&toFromCountry=CDN&changeCriteria=true).\n",
    "\n",
    "## Data Collection Criteria\n",
    "\n",
    "- **Trade Type:** Total imports\n",
    "- **Trader:** Canada\n",
    "- **Trading Partner:** All countries (Total)\n",
    "- **Time Period (Specific Years):** 2019, 2020, 2021, 2022, 2023\n",
    "- **Value:** $ Canadian (current dollars)\n",
    "- **Industry:** Top 25 industries (5-digit NAICS codes)\n",
    "\n",
    "## Libraries Used for Analysis\n",
    "\n",
    "- **Pandas:** Used for data preparation and cleaning. It allows for easy loading of data from CSV files, handling missing values, and merging multiple datasets into a single DataFrame for comprehensive analysis.\n",
    "- **NumPy:** Used for efficient data manipulation and numerical computations. It provides support for large, multi-dimensional arrays and matrices, which are essential for handling the dataset and performing various mathematical operations.\n",
    "- **scikit-learn:** Used for applying machine learning algorithms to the data. Specifically, it will be used for linear regression to identify trends and make predictions about the behavior of the top 25 industries in Canada.\n",
    "- **SQLAlchemy:** Used for connecting to the SQLite database, creating tables, and inserting data from CSV files into the database.\n",
    "\n",
    "\n",
    "##Project Structure\n",
    "## Project Structure\n",
    "- **clean_data.py:** Python script for cleaning the data and making predictions.\n",
    "- **data/:** Directory containing the raw and cleaned data files.\n",
    "- **notebooks/:** Directory containing Jupyter notebooks for data analysis and documentation.\n",
    "- **scripts/:** Directory containing scripts for database setup and data loading.\n",
    "- **README.md:** Project documentation.\n",
    "- **requirements.txt:** List of dependencies required for the project.\n",
    "\n",
    "\n",
    "##How to run the code\n",
    "[gicolls](https://github.com/gifcolls/canadian-imports-data-analysis)\n",
    "cd canadian-imports-data-analysis\n",
    "\n",
    "##Install dependencies\n",
    "Make sure you have pandas, numpy, and scikit-learn installed. If not, install them using pip:\n",
    "pip install -r requirements.txt\n",
    "\n",
    "##Run the script:\n",
    "../scripts/clean_data.py\n",
    "##Output:\n",
    "The cleaned data will be saved as cleaned_data.csv in the data/ directory. The script will also output the predicted import value for the current year.\n",
    "\n",
    "\n",
    "\n"
   ]
  },
  {
   "cell_type": "code",
   "execution_count": 33,
   "metadata": {},
   "outputs": [],
   "source": [
    "#Import Libraries\n",
    "import pandas as pd\n",
    "import numpy as np\n",
    "from sklearn.linear_model import LinearRegression\n",
    "from sqlalchemy import create_engine\n",
    "import sqlite3\n"
   ]
  },
  {
   "cell_type": "markdown",
   "metadata": {},
   "source": [
    "## Database Setup\n",
    "\n",
    "We use a Python script to load data from CSV files into a SQLite database. This script reads the CSV files, processes them, and inserts the data into the database.\n",
    "\n",
    "## Running Setup Script\n",
    "We will run the setup script to initialize the database and load data."
   ]
  },
  {
   "cell_type": "code",
   "execution_count": null,
   "metadata": {},
   "outputs": [],
   "source": [
    "# Run the setup script\n",
    "%run ../scripts/setup_database.py\n"
   ]
  },
  {
   "cell_type": "markdown",
   "metadata": {},
   "source": [
    "##Verifying the data from "
   ]
  },
  {
   "cell_type": "code",
   "execution_count": 5,
   "metadata": {},
   "outputs": [],
   "source": [
    "#add connection conn\n",
    "\n",
    "# Query check\n",
    "query = \"SELECT * FROM imports LIMIT 10\"\n",
    "df_check = pd.read_sql_query(query, conn)\n",
    "print(\"First 10 rows from the full data query\")\n",
    "print(df_check)"
   ]
  },
  {
   "cell_type": "markdown",
   "metadata": {},
   "source": [
    "## Conclusion\n",
    "\n",
    "We have successfully set up a SQLite database and loaded Canadian import data from 2019 to 2023. The data is now ready for further analysis and visualization.\n",
    "\n",
    "## Next Steps\n",
    "\n",
    "- Perform data analysis to uncover trends and insights.\n",
    "- Create visualizations to better understand the data.\n",
    "- Extend the database with additional data sources if necessary.\n"
   ]
  }
 ],
 "metadata": {
  "kernelspec": {
   "display_name": "venv_imports_canada",
   "language": "python",
   "name": "python3"
  },
  "language_info": {
   "codemirror_mode": {
    "name": "ipython",
    "version": 3
   },
   "file_extension": ".py",
   "mimetype": "text/x-python",
   "name": "python",
   "nbconvert_exporter": "python",
   "pygments_lexer": "ipython3",
   "version": "3.10.5"
  }
 },
 "nbformat": 4,
 "nbformat_minor": 2
}
