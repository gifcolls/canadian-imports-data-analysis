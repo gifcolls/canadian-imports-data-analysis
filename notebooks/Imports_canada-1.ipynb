{
 "cells": [
  {
   "cell_type": "markdown",
   "metadata": {},
   "source": [
    "# Project Overview\n",
    "\n",
    "This project aims to analyze the data from the total imports of the top 25 industries in Canada. The objectives are to discover trends and patterns to predict the behavior of these industries for the current year, 2024.\n",
    "\n",
    "The data was collected from the official website of the [Trade Data Online by the Government of Canada](https://www.ic.gc.ca/app/scr/tdst/tdo/crtr.html?reportType=TI&grouped=GROUPED&searchType=All&timePeriod=5%7cComplete+Years&currency=CDN&naArea=9999&countryList=ALL&productType=NAICS&toFromCountry=CDN&changeCriteria=true).\n",
    "\n",
    "## Data Collection Criteria\n",
    "\n",
    "- **Trade Type:** Total imports\n",
    "- **Trader:** Canada\n",
    "- **Trading Partner:** All countries (Total)\n",
    "- **Time Period (Specific Years):** 2019, 2020, 2021, 2022, 2023\n",
    "- **Value:** $ Canadian (current dollars)\n",
    "- **Industry:** Top 25 industries (5-digit NAICS codes)\n",
    "\n",
    "## Libraries Used for Analysis\n",
    "\n",
    "- **Pandas:** Used for data preparation and cleaning. It allows for easy loading of data from CSV files, handling missing values, and merging multiple datasets into a single DataFrame for comprehensive analysis.\n",
    "- **NumPy:** Used for efficient data manipulation and numerical computations. It provides support for large, multi-dimensional arrays and matrices, which are essential for handling the dataset and performing various mathematical operations.\n",
    "- **scikit-learn:** Used for applying machine learning algorithms to the data. Specifically, it will be used for linear regression to identify trends and make predictions about the behavior of the top 25 industries in Canada.\n",
    "- **SQLAlchemy:** Used for connecting to the SQLite database, creating tables, and inserting data from CSV files into the database.\n",
    "\n",
    "\n",
    "##Project Structure\n",
    "## Project Structure\n",
    "- **clean_data.py:** Python script for cleaning the data and making predictions.\n",
    "- **data/:** Directory containing the raw and cleaned data files.\n",
    "- **notebooks/:** Directory containing Jupyter notebooks for data analysis and documentation.\n",
    "- **scripts/:** Directory containing scripts for database setup and data loading.\n",
    "- **README.md:** Project documentation.\n",
    "- **requirements.txt:** List of dependencies required for the project.\n",
    "\n",
    "\n",
    "##How to run the code\n",
    "[gicolls](https://github.com/gifcolls/canadian-imports-data-analysis)\n",
    "cd canadian-imports-data-analysis\n",
    "\n",
    "##Install dependencies\n",
    "Make sure you have pandas, numpy, and scikit-learn installed. If not, install them using pip:\n",
    "pip install -r requirements.txt\n",
    "\n",
    "##Run the script:\n",
    "../scripts/clean_data.py\n",
    "##Output:\n",
    "The cleaned data will be saved as cleaned_data.csv in the data/ directory. The script will also output the predicted import value for the current year.\n",
    "\n",
    "\n",
    "\n"
   ]
  },
  {
   "cell_type": "code",
   "execution_count": 2,
   "metadata": {},
   "outputs": [],
   "source": [
    "#Import Libraries\n",
    "import pandas as pd\n",
    "import numpy as np\n",
    "from sklearn.linear_model import LinearRegression\n",
    "from sqlalchemy import create_engine\n",
    "import sqlite3\n"
   ]
  },
  {
   "cell_type": "markdown",
   "metadata": {},
   "source": [
    "## Database Setup\n",
    "\n",
    "We use a Python script to load data from CSV files into a SQLite database. This script reads the CSV files, processes them, and inserts the data into the database.\n",
    "\n",
    "## Running Setup Script\n",
    "We will run the setup script to initialize the database and load data."
   ]
  },
  {
   "cell_type": "code",
   "execution_count": null,
   "metadata": {},
   "outputs": [],
   "source": [
    "# Run the setup script\n",
    "%run ../scripts/setup_database.py\n"
   ]
  },
  {
   "cell_type": "markdown",
   "metadata": {},
   "source": [
    "##Verifying the data "
   ]
  },
  {
   "cell_type": "code",
   "execution_count": null,
   "metadata": {},
   "outputs": [],
   "source": [
    "#add connection conn\n",
    "# Database connection with absolute path\n",
    "db_path = 'C:/Users/berli/canadian-imports-data-analysis/data/canadian_imports.db'\n",
    "conn = sqlite3.connect(db_path)\n",
    "\n",
    "# Query check\n",
    "query = \"SELECT * FROM cleaned_imports LIMIT 10\"\n",
    "df_check = pd.read_sql_query(query, conn)\n",
    "print(\"First 10 rows from the full data query\")\n",
    "print(df_check)"
   ]
  },
  {
   "cell_type": "markdown",
   "metadata": {},
   "source": [
    "## Data Cleaning Process\n",
    "\n",
    "The data cleaning process involves the following steps:\n",
    "\n",
    "1. **Loading Raw Data**: Loading raw data files for the years 2019-2023.\n",
    "2. **Column Renaming**: Renaming columns to 'Category' and 'Value', and adding a 'Year' column.\n",
    "3. **Handling Missing Values**: Checking for missing values and filling them with the mean of the respective column.\n",
    "4. **Removing Duplicates**: Identifying and removing duplicate rows.\n",
    "5. **Handling Outliers**: Identifying outliers using Z-scores and iteratively removing them until no new outliers are found.\n",
    "6. **Saving Cleaned Data**: Saving the cleaned data to a CSV file and loading it into a SQLite database."
   ]
  },
  {
   "cell_type": "code",
   "execution_count": 29,
   "metadata": {},
   "outputs": [],
   "source": [
    "### Import Necessary Modules\n",
    "import pandas as pd\n",
    "import numpy as np\n",
    "from sqlalchemy import create_engine\n",
    "import sqlite3\n",
    "import os\n",
    "\n",
    "### Define the Celaning Function\n",
    "def clean_data(df, year):\n",
    "    df.columns = ['Category', 'Value']\n",
    "    df['Year'] = year\n",
    "    df = df.dropna(subset=['Category']).copy()\n",
    "    df = df[~df['Category'].str.contains('Total|Source', case=False, na=False)]\n",
    "    df['Value'] = df['Value'].replace('[\\$,]', '', regex=True)\n",
    "    df['Value'] = pd.to_numeric(df['Value'], errors='coerce')\n",
    "    return df"
   ]
  },
  {
   "cell_type": "code",
   "execution_count": null,
   "metadata": {},
   "outputs": [],
   "source": [
    "# Run Data Cleaning Script\n",
    "%run ../scripts/clean_data.py"
   ]
  },
  {
   "cell_type": "markdown",
   "metadata": {},
   "source": [
    "## Exploratory Data Analysis (EDA)\n",
    "\n",
    "### Step 1: Understanding the Data Structure\n",
    "- The dataset contains information on imports for various categories over the years 2019 to 2023.\n",
    "- Numerical columns include 'Value' and 'Year'.\n",
    "- Categorical column includes 'Category'."
   ]
  },
  {
   "cell_type": "code",
   "execution_count": null,
   "metadata": {},
   "outputs": [],
   "source": [
    "# To diplsay all the rows from Pandas\n",
    "pd.set_option('display.max_rows', None)\n",
    "# Display the first few rows of the dataset\n",
    "display(df_cleaned_total)"
   ]
  },
  {
   "cell_type": "code",
   "execution_count": 72,
   "metadata": {},
   "outputs": [
    {
     "name": "stdout",
     "output_type": "stream",
     "text": [
      "Category     object\n",
      "Value       float64\n",
      "Year          int32\n",
      "dtype: object \n",
      "\n",
      "Count: 115\n",
      "Mean :  10803.493287\n",
      "Std :  4347.367048\n",
      "Min :  5026.113000\n",
      "25% :  7663.444500\n",
      "50% :  9644.989000\n",
      "75% :  12504.376500\n",
      "Max :  23513.057000\n",
      "\n",
      " Category\n",
      "33361 - Engine, turbine and power transmission equipment manufacturing                                 5\n",
      "33631 - Motor vehicle gasoline engine and engine parts manufacturing                                   5\n",
      "33324 - Industrial machinery manufacturing                                                             5\n",
      "33911 - Medical equipment and supplies manufacturing                                                   5\n",
      "33312 - Construction machinery manufacturing                                                           5\n",
      "32619 - Other plastic product manufacturing                                                            5\n",
      "21222 - Gold and silver ore mining                                                                     5\n",
      "33531 - Electrical equipment manufacturing                                                             5\n",
      "32521 - Resin and synthetic rubber manufacturing                                                       5\n",
      "33111 - Iron and steel mills and ferro-alloy manufacturing                                             5\n",
      "32519 - Other basic organic chemical manufacturing                                                     5\n",
      "33422 - Radio and television broadcasting and wireless communications equipment manufacturing          5\n",
      "33612 - Heavy-duty truck manufacturing                                                                 5\n",
      "33451 - Navigational, measuring, medical and control instruments manufacturing                         5\n",
      "33639 - Other motor vehicle parts manufacturing                                                        5\n",
      "33411 - Computer and peripheral equipment manufacturing                                                5\n",
      "33421 - Telephone apparatus manufacturing                                                              5\n",
      "33641 - Aerospace product and parts manufacturing                                                      5\n",
      "33341 - Ventilation, heating, air-conditioning and commercial refrigeration equipment manufacturing    5\n",
      "21111 - Oil and gas extraction (except oil sands)                                                      4\n",
      "32411 - Petroleum refineries                                                                           4\n",
      "32599 - All other chemical product manufacturing                                                       3\n",
      "32541 - Pharmaceutical and medicine manufacturing                                                      2\n",
      "11133 - Non-citrus fruit and tree nut farming                                                          2\n",
      "33131 - Alumina and aluminum production and processing                                                 2\n",
      "33635 - Motor vehicle transmission and power train parts manufacturing                                 1\n",
      "31524 - Women's, girls' and infants' cut and sew clothing manufacturing                                1\n",
      "33311 - Agricultural implement manufacturing                                                           1\n",
      "Name: count, dtype: int64 \n",
      "\n",
      "Year\n",
      "2019    24\n",
      "2020    24\n",
      "2021    23\n",
      "2022    21\n",
      "2023    23\n",
      "Name: count, dtype: int64 \n",
      "\n"
     ]
    }
   ],
   "source": [
    "# Checking the data types of each column\n",
    "print(df_cleaned_total.dtypes, '\\n')\n",
    "\n",
    "# Summarizing statistics for numerical columns\n",
    "#Printing count as an int\n",
    "print(f\"Count: {int(value_summary['count'])}\")\n",
    "\n",
    "#Rest of the summary statistics\n",
    "for stat in ['mean', 'std', 'min', '25%', '50%', '75%', 'max']:\n",
    "    print(f\"{stat.capitalize()} : {value_summary[stat]: .6f}\")\n",
    "\n",
    "\n",
    "# Summarizing statistics for categorical columns\n",
    "print('\\n',df_cleaned_total['Category'].value_counts(), '\\n')\n",
    "\n",
    "# Distribution of the 'Year' column\n",
    "print(df_cleaned_total['Year'].value_counts().sort_index(), '\\n')"
   ]
  },
  {
   "cell_type": "markdown",
   "metadata": {},
   "source": [
    "## Conclusion\n",
    "\n",
    "We have successfully set up a SQLite database and loaded Canadian import data from 2019 to 2023. The data is now ready for further analysis and visualization.\n",
    "\n",
    "## Next Steps\n",
    "\n",
    "- Perform data analysis to uncover trends and insights.\n",
    "- Create visualizations to better understand the data.\n",
    "- Extend the database with additional data sources if necessary.\n"
   ]
  }
 ],
 "metadata": {
  "kernelspec": {
   "display_name": "venv_imports_canada",
   "language": "python",
   "name": "python3"
  },
  "language_info": {
   "codemirror_mode": {
    "name": "ipython",
    "version": 3
   },
   "file_extension": ".py",
   "mimetype": "text/x-python",
   "name": "python",
   "nbconvert_exporter": "python",
   "pygments_lexer": "ipython3",
   "version": "3.10.5"
  }
 },
 "nbformat": 4,
 "nbformat_minor": 2
}
