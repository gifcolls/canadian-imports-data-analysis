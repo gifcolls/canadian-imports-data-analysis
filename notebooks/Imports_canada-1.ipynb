{
 "cells": [
  {
   "cell_type": "markdown",
   "metadata": {},
   "source": [
    "# Project Overview\n",
    "\n",
    "This project aims to analyze the data from the total imports of the top 25 industries in Canada. The objectives are to discover trends and patterns to predict the behavior of these industries for the current year, 2024.\n",
    "\n",
    "The data was collected from the official website of the [Trade Data Online by the Government of Canada](https://www.ic.gc.ca/app/scr/tdst/tdo/crtr.html?reportType=TI&grouped=GROUPED&searchType=All&timePeriod=5%7cComplete+Years&currency=CDN&naArea=9999&countryList=ALL&productType=NAICS&toFromCountry=CDN&changeCriteria=true).\n",
    "\n",
    "## Data Collection Criteria\n",
    "\n",
    "- **Trade Type:** Total imports\n",
    "- **Trader:** Canada\n",
    "- **Trading Partner:** All countries (Total)\n",
    "- **Time Period (Specific Years):** 2019, 2020, 2021, 2022, 2023\n",
    "- **Value:** $ Canadian (current dollars)\n",
    "- **Industry:** Top 25 industries (5-digit NAICS codes)\n",
    "\n",
    "## Libraries Used for Analysis\n",
    "\n",
    "- **Pandas:** Used for data preparation and cleaning. It allows for easy loading of data from CSV files, handling missing values, and merging multiple datasets into a single DataFrame for comprehensive analysis.\n",
    "- **NumPy:** Used for efficient data manipulation and numerical computations. It provides support for large, multi-dimensional arrays and matrices, which are essential for handling the dataset and performing various mathematical operations.\n",
    "- **scikit-learn:** Used for applying machine learning algorithms to the data. Specifically, it will be used for linear regression to identify trends and make predictions about the behavior of the top 25 industries in Canada.\n",
    "- **SQLAlchemy:** Used for connecting to the SQLite database, creating tables, and inserting data from CSV files into the database.\n",
    "\n",
    "\n",
    "##Project Structure\n",
    "## Project Structure\n",
    "- **clean_data.py:** Python script for cleaning the data and making predictions.\n",
    "- **data/:** Directory containing the raw and cleaned data files.\n",
    "- **notebooks/:** Directory containing Jupyter notebooks for data analysis and documentation.\n",
    "- **scripts/:** Directory containing scripts for database setup and data loading.\n",
    "- **README.md:** Project documentation.\n",
    "- **requirements.txt:** List of dependencies required for the project.\n",
    "\n",
    "\n",
    "##How to run the code\n",
    "[gicolls](https://github.com/gifcolls/canadian-imports-data-analysis)\n",
    "cd canadian-imports-data-analysis\n",
    "\n",
    "##Install dependencies\n",
    "Make sure you have pandas, numpy, and scikit-learn installed. If not, install them using pip:\n",
    "pip install -r requirements.txt\n",
    "\n",
    "##Run the script:\n",
    "../scripts/clean_data.py\n",
    "##Output:\n",
    "The cleaned data will be saved as cleaned_data.csv in the data/ directory. The script will also output the predicted import value for the current year.\n",
    "\n",
    "\n",
    "\n"
   ]
  },
  {
   "cell_type": "code",
   "execution_count": 2,
   "metadata": {},
   "outputs": [],
   "source": [
    "#Import Libraries\n",
    "import pandas as pd\n",
    "import numpy as np\n",
    "from sklearn.linear_model import LinearRegression\n",
    "from sqlalchemy import create_engine\n",
    "import sqlite3\n"
   ]
  },
  {
   "cell_type": "markdown",
   "metadata": {},
   "source": [
    "## Database Setup\n",
    "\n",
    "We use a Python script to load data from CSV files into a SQLite database. This script reads the CSV files, processes them, and inserts the data into the database.\n",
    "\n",
    "## Running Setup Script\n",
    "We will run the setup script to initialize the database and load data."
   ]
  },
  {
   "cell_type": "code",
   "execution_count": 3,
   "metadata": {},
   "outputs": [
    {
     "name": "stdout",
     "output_type": "stream",
     "text": [
      "First few rows of the data for 2019:\n",
      "                                            Category      Value  Year\n",
      "1  33611 - Automobile and light-duty motor vehicl...  52045.933  2019\n",
      "2  21111 - Oil and gas extraction (except oil sands)  22305.242  2019\n",
      "3  32541 - Pharmaceutical and medicine manufacturing  21545.832  2019\n",
      "4  33641 - Aerospace product and parts manufacturing  19300.922  2019\n",
      "5                       32411 - Petroleum refineries  18598.200  2019\n",
      "First few rows of the data for 2020:\n",
      "                                            Category      Value  Year\n",
      "1  33611 - Automobile and light-duty motor vehicl...  41140.574  2020\n",
      "2  32541 - Pharmaceutical and medicine manufacturing  22573.708  2020\n",
      "3  33411 - Computer and peripheral equipment manu...  16842.468  2020\n",
      "4                 21222 - Gold and silver ore mining  14663.445  2020\n",
      "5  33641 - Aerospace product and parts manufacturing  13598.319  2020\n",
      "First few rows of the data for 2021:\n",
      "                                            Category      Value  Year\n",
      "1  33611 - Automobile and light-duty motor vehicl...  49903.228  2021\n",
      "2  32541 - Pharmaceutical and medicine manufacturing  26620.650  2021\n",
      "3  33411 - Computer and peripheral equipment manu...  18253.692  2021\n",
      "4  21111 - Oil and gas extraction (except oil sands)  18043.701  2021\n",
      "5                       32411 - Petroleum refineries  17012.693  2021\n",
      "First few rows of the data for 2022:\n",
      "                                            Category      Value  Year\n",
      "1  33611 - Automobile and light-duty motor vehicl...  60983.594  2022\n",
      "2  32541 - Pharmaceutical and medicine manufacturing  30236.014  2022\n",
      "3  21111 - Oil and gas extraction (except oil sands)  27412.843  2022\n",
      "4                       32411 - Petroleum refineries  26602.280  2022\n",
      "5  33411 - Computer and peripheral equipment manu...  19279.348  2022\n",
      "First few rows of the data for 2023:\n",
      "                                            Category      Value  Year\n",
      "1  33611 - Automobile and light-duty motor vehicl...  70384.248  2023\n",
      "2  32541 - Pharmaceutical and medicine manufacturing  28162.415  2023\n",
      "3                       32411 - Petroleum refineries  23513.057  2023\n",
      "4  21111 - Oil and gas extraction (except oil sands)  22745.558  2023\n",
      "5  33641 - Aerospace product and parts manufacturing  19856.187  2023\n",
      "Data loaded successfully into the database.\n",
      "Tables in the database: [('imports',)]\n",
      "First 10 rows from the imports table:\n",
      "                                            Category      Value  Year\n",
      "0  33611 - Automobile and light-duty motor vehicl...  52045.933  2019\n",
      "1  21111 - Oil and gas extraction (except oil sands)  22305.242  2019\n",
      "2  32541 - Pharmaceutical and medicine manufacturing  21545.832  2019\n",
      "3  33641 - Aerospace product and parts manufacturing  19300.922  2019\n",
      "4                       32411 - Petroleum refineries  18598.200  2019\n",
      "5  33411 - Computer and peripheral equipment manu...  16191.013  2019\n",
      "6    33639 - Other motor vehicle parts manufacturing  15572.479  2019\n",
      "7  33451 - Navigational, measuring, medical and c...  10322.429  2019\n",
      "8             33612 - Heavy-duty truck manufacturing   9656.805  2019\n",
      "9  33422 - Radio and television broadcasting and ...   9644.989  2019\n"
     ]
    }
   ],
   "source": [
    "# Run the setup script\n",
    "%run ../scripts/setup_database.py\n"
   ]
  },
  {
   "cell_type": "markdown",
   "metadata": {},
   "source": [
    "##Verifying the data "
   ]
  },
  {
   "cell_type": "code",
   "execution_count": 4,
   "metadata": {},
   "outputs": [
    {
     "name": "stdout",
     "output_type": "stream",
     "text": [
      "First 10 rows from the full data query\n",
      "                                            Category      Value  Year\n",
      "0  33611 - Automobile and light-duty motor vehicl...  52045.933  2019\n",
      "1  21111 - Oil and gas extraction (except oil sands)  22305.242  2019\n",
      "2  32541 - Pharmaceutical and medicine manufacturing  21545.832  2019\n",
      "3  33641 - Aerospace product and parts manufacturing  19300.922  2019\n",
      "4                       32411 - Petroleum refineries  18598.200  2019\n",
      "5  33411 - Computer and peripheral equipment manu...  16191.013  2019\n",
      "6    33639 - Other motor vehicle parts manufacturing  15572.479  2019\n",
      "7  33451 - Navigational, measuring, medical and c...  10322.429  2019\n",
      "8             33612 - Heavy-duty truck manufacturing   9656.805  2019\n",
      "9  33422 - Radio and television broadcasting and ...   9644.989  2019\n"
     ]
    }
   ],
   "source": [
    "#add connection conn\n",
    "# Database connection with absolute path\n",
    "db_path = 'C:/Users/berli/canadian-imports-data-analysis/canadian_imports.db'\n",
    "conn = sqlite3.connect(db_path)\n",
    "\n",
    "# Query check\n",
    "query = \"SELECT * FROM imports LIMIT 10\"\n",
    "df_check = pd.read_sql_query(query, conn)\n",
    "print(\"First 10 rows from the full data query\")\n",
    "print(df_check)"
   ]
  },
  {
   "cell_type": "markdown",
   "metadata": {},
   "source": [
    "## Exploratory Data Analysis (EDA)\n",
    "\n",
    "### Data Loading\n",
    "We loaded the import data from a SQLite database into a Pandas DataFrame.\n",
    "\n",
    "### Data Overview\n",
    "The dataset contains the following columns: `Year`, `Industry`, `ImportValue`. Below is a summary of the data:"
   ]
  },
  {
   "cell_type": "code",
   "execution_count": null,
   "metadata": {},
   "outputs": [],
   "source": [
    "# Display the first few rows of the dataset\n",
    "print(df.head())"
   ]
  },
  {
   "cell_type": "code",
   "execution_count": null,
   "metadata": {},
   "outputs": [],
   "source": []
  },
  {
   "cell_type": "markdown",
   "metadata": {},
   "source": [
    "## Conclusion\n",
    "\n",
    "We have successfully set up a SQLite database and loaded Canadian import data from 2019 to 2023. The data is now ready for further analysis and visualization.\n",
    "\n",
    "## Next Steps\n",
    "\n",
    "- Perform data analysis to uncover trends and insights.\n",
    "- Create visualizations to better understand the data.\n",
    "- Extend the database with additional data sources if necessary.\n"
   ]
  }
 ],
 "metadata": {
  "kernelspec": {
   "display_name": "venv_imports_canada",
   "language": "python",
   "name": "python3"
  },
  "language_info": {
   "codemirror_mode": {
    "name": "ipython",
    "version": 3
   },
   "file_extension": ".py",
   "mimetype": "text/x-python",
   "name": "python",
   "nbconvert_exporter": "python",
   "pygments_lexer": "ipython3",
   "version": "3.10.5"
  }
 },
 "nbformat": 4,
 "nbformat_minor": 2
}
